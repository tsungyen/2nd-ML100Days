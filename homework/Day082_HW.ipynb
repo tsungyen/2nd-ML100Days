{
 "cells": [
  {
   "cell_type": "markdown",
   "metadata": {},
   "source": [
    "## Work\n",
    "1. 請比較使用不同層數以及不同 Dropout rate 對訓練的效果\n",
    "2. 將 optimizer 改成使用 Adam 並加上適當的 dropout rate 檢視結果"
   ]
  },
  {
   "cell_type": "code",
   "execution_count": 1,
   "metadata": {},
   "outputs": [
    {
     "name": "stderr",
     "output_type": "stream",
     "text": [
      "Using TensorFlow backend.\n"
     ]
    }
   ],
   "source": [
    "import os\n",
    "import keras\n",
    "import itertools\n",
    "# Disable GPU\n",
    "os.environ[\"CUDA_VISIBLE_DEVICES\"] = \"\""
   ]
  },
  {
   "cell_type": "code",
   "execution_count": 2,
   "metadata": {},
   "outputs": [],
   "source": [
    "train, test = keras.datasets.cifar10.load_data()"
   ]
  },
  {
   "cell_type": "code",
   "execution_count": 3,
   "metadata": {},
   "outputs": [],
   "source": [
    "## 資料前處理\n",
    "def preproc_x(x, flatten=True):\n",
    "    x = x / 255.\n",
    "    if flatten:\n",
    "        x = x.reshape((len(x), -1))\n",
    "    return x\n",
    "\n",
    "def preproc_y(y, num_classes=10):\n",
    "    if y.shape[-1] == 1:\n",
    "        y = keras.utils.to_categorical(y, num_classes)\n",
    "    return y    "
   ]
  },
  {
   "cell_type": "code",
   "execution_count": 4,
   "metadata": {},
   "outputs": [],
   "source": [
    "x_train, y_train = train\n",
    "x_test, y_test = test\n",
    "\n",
    "# Preproc the inputs\n",
    "x_train = preproc_x(x_train)\n",
    "x_test = preproc_x(x_test)\n",
    "\n",
    "# Preprc the outputs\n",
    "y_train = preproc_y(y_train)\n",
    "y_test = preproc_y(y_test)"
   ]
  },
  {
   "cell_type": "code",
   "execution_count": 5,
   "metadata": {},
   "outputs": [],
   "source": [
    "from keras.layers import Dropout\n",
    "\n",
    "\"\"\"\n",
    "建立神經網路，並加入 dropout layer\n",
    "\"\"\"\n",
    "def build_mlp(input_shape, output_units=10, num_neurons=[512, 256, 128], drp_ratio=0.3):\n",
    "    input_layer = keras.layers.Input(input_shape)\n",
    "    \n",
    "    for i, n_units in enumerate(num_neurons):\n",
    "        if i == 0:\n",
    "            x = keras.layers.Dense(units=n_units, \n",
    "                                   activation=\"relu\", \n",
    "                                   name=\"hidden_layer\"+str(i+1))(input_layer)\n",
    "            x = Dropout(drp_ratio)(x)\n",
    "        else:\n",
    "            x = keras.layers.Dense(units=n_units, \n",
    "                                   activation=\"relu\", \n",
    "                                   name=\"hidden_layer\"+str(i+1))(x)\n",
    "            x = Dropout(drp_ratio)(x)\n",
    "    \n",
    "    out = keras.layers.Dense(units=output_units, activation=\"softmax\", name=\"output\")(x)\n",
    "    \n",
    "    model = keras.models.Model(inputs=[input_layer], outputs=[out])\n",
    "    return model"
   ]
  },
  {
   "cell_type": "code",
   "execution_count": 6,
   "metadata": {},
   "outputs": [],
   "source": [
    "\n",
    "## 超參數設定\n",
    "LEARNING_RATE = 1e-3\n",
    "EPOCHS = 50\n",
    "BATCH_SIZE = 256\n",
    "MOMENTUM = 0.95\n",
    "Dropout_EXP = 0.25"
   ]
  },
  {
   "cell_type": "code",
   "execution_count": 7,
   "metadata": {
    "scrolled": true
   },
   "outputs": [
    {
     "name": "stdout",
     "output_type": "stream",
     "text": [
      "_________________________________________________________________\n",
      "Layer (type)                 Output Shape              Param #   \n",
      "=================================================================\n",
      "input_1 (InputLayer)         (None, 3072)              0         \n",
      "_________________________________________________________________\n",
      "hidden_layer1 (Dense)        (None, 512)               1573376   \n",
      "_________________________________________________________________\n",
      "dropout_1 (Dropout)          (None, 512)               0         \n",
      "_________________________________________________________________\n",
      "hidden_layer2 (Dense)        (None, 256)               131328    \n",
      "_________________________________________________________________\n",
      "dropout_2 (Dropout)          (None, 256)               0         \n",
      "_________________________________________________________________\n",
      "hidden_layer3 (Dense)        (None, 128)               32896     \n",
      "_________________________________________________________________\n",
      "dropout_3 (Dropout)          (None, 128)               0         \n",
      "_________________________________________________________________\n",
      "output (Dense)               (None, 10)                1290      \n",
      "=================================================================\n",
      "Total params: 1,738,890\n",
      "Trainable params: 1,738,890\n",
      "Non-trainable params: 0\n",
      "_________________________________________________________________\n",
      "Train on 50000 samples, validate on 10000 samples\n",
      "Epoch 1/50\n",
      "50000/50000 [==============================] - 10s 203us/step - loss: 2.0507 - acc: 0.2432 - val_loss: 1.8615 - val_acc: 0.3237\n",
      "Epoch 2/50\n",
      "50000/50000 [==============================] - 5s 99us/step - loss: 1.8826 - acc: 0.3153 - val_loss: 1.7591 - val_acc: 0.3661\n",
      "Epoch 3/50\n",
      "50000/50000 [==============================] - 5s 96us/step - loss: 1.8342 - acc: 0.3318 - val_loss: 1.7077 - val_acc: 0.3853\n",
      "Epoch 4/50\n",
      "50000/50000 [==============================] - 5s 101us/step - loss: 1.7850 - acc: 0.3515 - val_loss: 1.6882 - val_acc: 0.3959\n",
      "Epoch 5/50\n",
      "50000/50000 [==============================] - 5s 101us/step - loss: 1.7608 - acc: 0.3639 - val_loss: 1.6616 - val_acc: 0.4099\n",
      "Epoch 6/50\n",
      "50000/50000 [==============================] - 5s 101us/step - loss: 1.7401 - acc: 0.3699 - val_loss: 1.6534 - val_acc: 0.4161\n",
      "Epoch 7/50\n",
      "50000/50000 [==============================] - 5s 94us/step - loss: 1.7169 - acc: 0.3802 - val_loss: 1.6180 - val_acc: 0.4209\n",
      "Epoch 8/50\n",
      "50000/50000 [==============================] - 5s 105us/step - loss: 1.6954 - acc: 0.3880 - val_loss: 1.6086 - val_acc: 0.4336\n",
      "Epoch 9/50\n",
      "50000/50000 [==============================] - 6s 117us/step - loss: 1.6817 - acc: 0.3955 - val_loss: 1.6006 - val_acc: 0.4434\n",
      "Epoch 10/50\n",
      "50000/50000 [==============================] - 5s 98us/step - loss: 1.6655 - acc: 0.4002 - val_loss: 1.5950 - val_acc: 0.4385\n",
      "Epoch 11/50\n",
      "50000/50000 [==============================] - 5s 105us/step - loss: 1.6564 - acc: 0.4037 - val_loss: 1.5727 - val_acc: 0.4449\n",
      "Epoch 12/50\n",
      "50000/50000 [==============================] - 5s 96us/step - loss: 1.6469 - acc: 0.4053 - val_loss: 1.5806 - val_acc: 0.4354\n",
      "Epoch 13/50\n",
      "50000/50000 [==============================] - 5s 98us/step - loss: 1.6353 - acc: 0.4108 - val_loss: 1.5748 - val_acc: 0.4464\n",
      "Epoch 14/50\n",
      "50000/50000 [==============================] - 5s 96us/step - loss: 1.6243 - acc: 0.4162 - val_loss: 1.5466 - val_acc: 0.4553\n",
      "Epoch 15/50\n",
      "50000/50000 [==============================] - 5s 96us/step - loss: 1.6159 - acc: 0.4165 - val_loss: 1.5805 - val_acc: 0.4432\n",
      "Epoch 16/50\n",
      "50000/50000 [==============================] - 5s 93us/step - loss: 1.6129 - acc: 0.4195 - val_loss: 1.5551 - val_acc: 0.4536\n",
      "Epoch 17/50\n",
      "50000/50000 [==============================] - 5s 99us/step - loss: 1.6128 - acc: 0.4175 - val_loss: 1.5432 - val_acc: 0.4653\n",
      "Epoch 18/50\n",
      "50000/50000 [==============================] - 5s 92us/step - loss: 1.6048 - acc: 0.4209 - val_loss: 1.5479 - val_acc: 0.4560\n",
      "Epoch 19/50\n",
      "50000/50000 [==============================] - 5s 103us/step - loss: 1.5956 - acc: 0.4261 - val_loss: 1.5240 - val_acc: 0.4596\n",
      "Epoch 20/50\n",
      "50000/50000 [==============================] - 5s 101us/step - loss: 1.5886 - acc: 0.4284 - val_loss: 1.5175 - val_acc: 0.4745 - \n",
      "Epoch 21/50\n",
      "50000/50000 [==============================] - 5s 103us/step - loss: 1.5766 - acc: 0.4287 - val_loss: 1.4975 - val_acc: 0.4697\n",
      "Epoch 22/50\n",
      "50000/50000 [==============================] - 5s 107us/step - loss: 1.5698 - acc: 0.4371 - val_loss: 1.5211 - val_acc: 0.4583\n",
      "Epoch 23/50\n",
      "50000/50000 [==============================] - 6s 111us/step - loss: 1.5757 - acc: 0.4307 - val_loss: 1.4909 - val_acc: 0.4744\n",
      "Epoch 24/50\n",
      "50000/50000 [==============================] - 5s 92us/step - loss: 1.5640 - acc: 0.4343 - val_loss: 1.5019 - val_acc: 0.4784\n",
      "Epoch 25/50\n",
      "50000/50000 [==============================] - 5s 101us/step - loss: 1.5621 - acc: 0.4380 - val_loss: 1.5093 - val_acc: 0.4716\n",
      "Epoch 26/50\n",
      "50000/50000 [==============================] - 6s 111us/step - loss: 1.5567 - acc: 0.4382 - val_loss: 1.5161 - val_acc: 0.4722\n",
      "Epoch 27/50\n",
      "50000/50000 [==============================] - 5s 110us/step - loss: 1.5544 - acc: 0.4418 - val_loss: 1.5130 - val_acc: 0.4699\n",
      "Epoch 28/50\n",
      "50000/50000 [==============================] - 6s 115us/step - loss: 1.5508 - acc: 0.4422 - val_loss: 1.5173 - val_acc: 0.4645\n",
      "Epoch 29/50\n",
      "50000/50000 [==============================] - 6s 111us/step - loss: 1.5468 - acc: 0.4412 - val_loss: 1.5140 - val_acc: 0.4585: 0s - loss: 1.5448 - \n",
      "Epoch 30/50\n",
      "50000/50000 [==============================] - 5s 109us/step - loss: 1.5504 - acc: 0.4437 - val_loss: 1.5158 - val_acc: 0.4639\n",
      "Epoch 31/50\n",
      "50000/50000 [==============================] - 6s 112us/step - loss: 1.5445 - acc: 0.4441 - val_loss: 1.4782 - val_acc: 0.4797\n",
      "Epoch 32/50\n",
      "50000/50000 [==============================] - 6s 114us/step - loss: 1.5299 - acc: 0.4504 - val_loss: 1.4929 - val_acc: 0.4688\n",
      "Epoch 33/50\n",
      "50000/50000 [==============================] - 6s 120us/step - loss: 1.5302 - acc: 0.4476 - val_loss: 1.4807 - val_acc: 0.4778\n",
      "Epoch 34/50\n",
      "50000/50000 [==============================] - 5s 107us/step - loss: 1.5306 - acc: 0.4484 - val_loss: 1.4964 - val_acc: 0.4726\n",
      "Epoch 35/50\n",
      "50000/50000 [==============================] - 5s 107us/step - loss: 1.5225 - acc: 0.4519 - val_loss: 1.4580 - val_acc: 0.4797\n",
      "Epoch 36/50\n",
      "50000/50000 [==============================] - 5s 107us/step - loss: 1.5224 - acc: 0.4492 - val_loss: 1.4595 - val_acc: 0.4876\n",
      "Epoch 37/50\n",
      "50000/50000 [==============================] - 5s 104us/step - loss: 1.5206 - acc: 0.4513 - val_loss: 1.4874 - val_acc: 0.4761\n",
      "Epoch 38/50\n",
      "50000/50000 [==============================] - 5s 95us/step - loss: 1.5143 - acc: 0.4553 - val_loss: 1.4695 - val_acc: 0.4788\n",
      "Epoch 39/50\n",
      "50000/50000 [==============================] - 5s 96us/step - loss: 1.5125 - acc: 0.4547 - val_loss: 1.4685 - val_acc: 0.4852\n",
      "Epoch 40/50\n",
      "50000/50000 [==============================] - 5s 101us/step - loss: 1.5057 - acc: 0.4599 - val_loss: 1.4810 - val_acc: 0.4841\n",
      "Epoch 41/50\n",
      "50000/50000 [==============================] - 5s 104us/step - loss: 1.5144 - acc: 0.4554 - val_loss: 1.4620 - val_acc: 0.4866\n",
      "Epoch 42/50\n",
      "50000/50000 [==============================] - 5s 109us/step - loss: 1.5110 - acc: 0.4541 - val_loss: 1.4880 - val_acc: 0.4774\n",
      "Epoch 43/50\n",
      "50000/50000 [==============================] - 6s 115us/step - loss: 1.5081 - acc: 0.4560 - val_loss: 1.4661 - val_acc: 0.4823\n",
      "Epoch 44/50\n",
      "50000/50000 [==============================] - 5s 107us/step - loss: 1.5137 - acc: 0.4563 - val_loss: 1.4699 - val_acc: 0.4856\n",
      "Epoch 45/50\n",
      "50000/50000 [==============================] - 5s 105us/step - loss: 1.5002 - acc: 0.4598 - val_loss: 1.4596 - val_acc: 0.4925\n",
      "Epoch 46/50\n",
      "50000/50000 [==============================] - 6s 115us/step - loss: 1.4964 - acc: 0.4611 - val_loss: 1.4879 - val_acc: 0.4760\n",
      "Epoch 47/50\n",
      "50000/50000 [==============================] - 6s 114us/step - loss: 1.4961 - acc: 0.4640 - val_loss: 1.4825 - val_acc: 0.4822\n",
      "Epoch 48/50\n",
      "50000/50000 [==============================] - 6s 117us/step - loss: 1.4986 - acc: 0.4588 - val_loss: 1.4453 - val_acc: 0.4841\n",
      "Epoch 49/50\n"
     ]
    },
    {
     "name": "stdout",
     "output_type": "stream",
     "text": [
      "50000/50000 [==============================] - 5s 110us/step - loss: 1.4906 - acc: 0.4641 - val_loss: 1.4583 - val_acc: 0.4876\n",
      "Epoch 50/50\n",
      "50000/50000 [==============================] - 6s 111us/step - loss: 1.4850 - acc: 0.4653 - val_loss: 1.4450 - val_acc: 0.4886\n"
     ]
    }
   ],
   "source": [
    "model = build_mlp(input_shape=x_train.shape[1:], drp_ratio=Dropout_EXP)\n",
    "model.summary()\n",
    "optimizer = keras.optimizers.Adam(lr=LEARNING_RATE, beta_1=0.9, beta_2=0.999, epsilon=None, decay=0.0, amsgrad=False)\n",
    "model.compile(loss=\"categorical_crossentropy\", metrics=[\"accuracy\"], optimizer=optimizer)\n",
    "\n",
    "model.fit(x_train, y_train, \n",
    "          epochs=EPOCHS, \n",
    "          batch_size=BATCH_SIZE, \n",
    "          validation_data=(x_test, y_test), \n",
    "          shuffle=True)\n",
    "\n",
    "# Collect results\n",
    "train_loss = model.history.history[\"loss\"]\n",
    "valid_loss = model.history.history[\"val_loss\"]\n",
    "train_acc = model.history.history[\"acc\"]\n",
    "valid_acc = model.history.history[\"val_acc\"]"
   ]
  },
  {
   "cell_type": "code",
   "execution_count": 8,
   "metadata": {},
   "outputs": [
    {
     "data": {
      "image/png": "[encoded data removed]",
      "text/plain": [
       "<Figure size 432x288 with 1 Axes>"
      ]
     },
     "metadata": {
      "needs_background": "light"
     },
     "output_type": "display_data"
    },
    {
     "data": {
      "image/png": "[encoded data removed]",
      "text/plain": [
       "<Figure size 432x288 with 1 Axes>"
      ]
     },
     "metadata": {
      "needs_background": "light"
     },
     "output_type": "display_data"
    }
   ],
   "source": [
    "import matplotlib.pyplot as plt\n",
    "%matplotlib inline\n",
    "\n",
    "plt.plot(range(len(train_loss)), train_loss, label=\"train loss\")\n",
    "plt.plot(range(len(valid_loss)), valid_loss, label=\"valid loss\")\n",
    "plt.legend()\n",
    "plt.title(\"Loss\")\n",
    "plt.show()\n",
    "\n",
    "plt.plot(range(len(train_acc)), train_acc, label=\"train accuracy\")\n",
    "plt.plot(range(len(valid_acc)), valid_acc, label=\"valid accuracy\")\n",
    "plt.legend()\n",
    "plt.title(\"Accuracy\")\n",
    "plt.show()"
   ]
  }
 ],
 "metadata": {
  "kernelspec": {
   "display_name": "Python 3",
   "language": "python",
   "name": "python3"
  },
  "language_info": {
   "codemirror_mode": {
    "name": "ipython",
    "version": 3
   },
   "file_extension": ".py",
   "mimetype": "text/x-python",
   "name": "python",
   "nbconvert_exporter": "python",
   "pygments_lexer": "ipython3",
   "version": "3.6.8"
  }
 },
 "nbformat": 4,
 "nbformat_minor": 2
}
