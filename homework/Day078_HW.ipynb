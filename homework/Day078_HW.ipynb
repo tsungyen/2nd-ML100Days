{
 "cells": [
  {
   "cell_type": "markdown",
   "metadata": {},
   "source": [
    "## Work\n",
    "1. 請嘗試將 preproc_x 替換成以每筆資料的 min/max 進行標準化至 -1 ~ 1 間，再進行訓練\n",
    "2. 請嘗試將 mlp 疊更深 (e.g 5~10 層)，進行訓練後觀察 learning curve 的走勢\n",
    "3. (optional) 請改用 GPU 進行訓練 (如果你有 GPU 的話)，比較使用 CPU 與 GPU 的訓練速度"
   ]
  },
  {
   "cell_type": "code",
   "execution_count": 1,
   "metadata": {},
   "outputs": [
    {
     "data": {
      "text/plain": [
       "'\\nYour code here (optional)\\n確認硬體資源\\n'"
      ]
     },
     "execution_count": 1,
     "metadata": {},
     "output_type": "execute_result"
    }
   ],
   "source": [
    "## \n",
    "\"\"\"\n",
    "Your code here (optional)\n",
    "確認硬體資源\n",
    "\"\"\"\n"
   ]
  },
  {
   "cell_type": "code",
   "execution_count": 4,
   "metadata": {},
   "outputs": [],
   "source": [
    "import os\n",
    "import keras\n",
    "\n",
    "# 請嘗試設定 GPU：os.environ\n",
    "os.environ[\"CUDA_VISIBLE_DEVICES\"] = \"\""
   ]
  },
  {
   "cell_type": "code",
   "execution_count": 5,
   "metadata": {},
   "outputs": [],
   "source": [
    "train, test = keras.datasets.cifar10.load_data()"
   ]
  },
  {
   "cell_type": "code",
   "execution_count": 6,
   "metadata": {},
   "outputs": [],
   "source": [
    "## 資料前處理\n",
    "def preproc_x(x, flatten=True):\n",
    "    x = x / 255.\n",
    "    if flatten:\n",
    "        x = x.reshape((len(x), -1))\n",
    "    return x\n",
    "\n",
    "def preproc_y(y, num_classes=10):\n",
    "    if y.shape[-1] == 1:\n",
    "        y = keras.utils.to_categorical(y, num_classes)\n",
    "    return y  "
   ]
  },
  {
   "cell_type": "code",
   "execution_count": 7,
   "metadata": {},
   "outputs": [],
   "source": [
    "x_train, y_train = train\n",
    "x_test, y_test = test\n",
    "\n",
    "# Preproc the inputs\n",
    "x_train = preproc_x(x_train)\n",
    "x_test = preproc_x(x_test)\n",
    "\n",
    "# Preprc the outputs\n",
    "y_train = preproc_y(y_train)\n",
    "y_test = preproc_y(y_test)"
   ]
  },
  {
   "cell_type": "code",
   "execution_count": 8,
   "metadata": {},
   "outputs": [],
   "source": [
    "def build_mlp(input_shape, output_units=10, num_neurons=[512, 256, 128]):\n",
    "    input_layer = keras.layers.Input(input_shape)\n",
    "    \n",
    "    for i, n_units in enumerate(num_neurons):\n",
    "        if i == 0:\n",
    "            x = keras.layers.Dense(units=n_units, activation=\"relu\", name=\"hidden_layer\"+str(i+1))(input_layer)\n",
    "        else:\n",
    "            x = keras.layers.Dense(units=n_units, activation=\"relu\", name=\"hidden_layer\"+str(i+1))(x)\n",
    "    \n",
    "    out = keras.layers.Dense(units=output_units, activation=\"softmax\", name=\"output\")(x)\n",
    "    \n",
    "    model = keras.models.Model(inputs=[input_layer], outputs=[out])\n",
    "    return model"
   ]
  },
  {
   "cell_type": "code",
   "execution_count": 9,
   "metadata": {},
   "outputs": [
    {
     "name": "stdout",
     "output_type": "stream",
     "text": [
      "WARNING:tensorflow:From D:\\Anaconda\\envs\\testAI\\lib\\site-packages\\tensorflow\\python\\framework\\op_def_library.py:263: colocate_with (from tensorflow.python.framework.ops) is deprecated and will be removed in a future version.\n",
      "Instructions for updating:\n",
      "Colocations handled automatically by placer.\n",
      "_________________________________________________________________\n",
      "Layer (type)                 Output Shape              Param #   \n",
      "=================================================================\n",
      "input_1 (InputLayer)         (None, 3072)              0         \n",
      "_________________________________________________________________\n",
      "hidden_layer1 (Dense)        (None, 512)               1573376   \n",
      "_________________________________________________________________\n",
      "hidden_layer2 (Dense)        (None, 256)               131328    \n",
      "_________________________________________________________________\n",
      "hidden_layer3 (Dense)        (None, 128)               32896     \n",
      "_________________________________________________________________\n",
      "output (Dense)               (None, 10)                1290      \n",
      "=================================================================\n",
      "Total params: 1,738,890\n",
      "Trainable params: 1,738,890\n",
      "Non-trainable params: 0\n",
      "_________________________________________________________________\n"
     ]
    }
   ],
   "source": [
    "model = build_mlp(input_shape=x_train.shape[1:])\n",
    "model.summary()"
   ]
  },
  {
   "cell_type": "code",
   "execution_count": 10,
   "metadata": {},
   "outputs": [],
   "source": [
    "## 超參數設定\n",
    "LEARNING_RATE = 0.001\n",
    "EPOCHS = 100\n",
    "BATCH_SIZE = 256"
   ]
  },
  {
   "cell_type": "code",
   "execution_count": 11,
   "metadata": {},
   "outputs": [],
   "source": [
    "optimizer = keras.optimizers.Adam(lr=LEARNING_RATE)\n",
    "model.compile(loss=\"categorical_crossentropy\", metrics=[\"accuracy\"], optimizer=optimizer)"
   ]
  },
  {
   "cell_type": "code",
   "execution_count": 12,
   "metadata": {},
   "outputs": [
    {
     "name": "stdout",
     "output_type": "stream",
     "text": [
      "WARNING:tensorflow:From D:\\Anaconda\\envs\\testAI\\lib\\site-packages\\tensorflow\\python\\ops\\math_ops.py:3066: to_int32 (from tensorflow.python.ops.math_ops) is deprecated and will be removed in a future version.\n",
      "Instructions for updating:\n",
      "Use tf.cast instead.\n",
      "Train on 50000 samples, validate on 10000 samples\n",
      "Epoch 1/100\n",
      "50000/50000 [==============================] - 6s 122us/step - loss: 1.9447 - acc: 0.3007 - val_loss: 1.7645 - val_acc: 0.3684\n",
      "Epoch 2/100\n",
      "50000/50000 [==============================] - 6s 112us/step - loss: 1.7055 - acc: 0.3908 - val_loss: 1.6110 - val_acc: 0.4251\n",
      "Epoch 3/100\n",
      "50000/50000 [==============================] - 6s 114us/step - loss: 1.6109 - acc: 0.4258 - val_loss: 1.5516 - val_acc: 0.4439\n",
      "Epoch 4/100\n",
      "50000/50000 [==============================] - 5s 110us/step - loss: 1.5487 - acc: 0.4472 - val_loss: 1.5444 - val_acc: 0.4476\n",
      "Epoch 5/100\n",
      "50000/50000 [==============================] - 6s 114us/step - loss: 1.5072 - acc: 0.4621 - val_loss: 1.5068 - val_acc: 0.4618\n",
      "Epoch 6/100\n",
      "50000/50000 [==============================] - 6s 116us/step - loss: 1.4714 - acc: 0.4743 - val_loss: 1.4740 - val_acc: 0.4758\n",
      "Epoch 7/100\n",
      "50000/50000 [==============================] - 6s 111us/step - loss: 1.4408 - acc: 0.4883 - val_loss: 1.4532 - val_acc: 0.4868\n",
      "Epoch 8/100\n",
      "50000/50000 [==============================] - 5s 108us/step - loss: 1.4096 - acc: 0.4986 - val_loss: 1.4475 - val_acc: 0.4868\n",
      "Epoch 9/100\n",
      "50000/50000 [==============================] - 6s 116us/step - loss: 1.3822 - acc: 0.5084 - val_loss: 1.4398 - val_acc: 0.4910\n",
      "Epoch 10/100\n",
      "50000/50000 [==============================] - 6s 111us/step - loss: 1.3595 - acc: 0.5153 - val_loss: 1.4951 - val_acc: 0.4741\n",
      "Epoch 11/100\n",
      "50000/50000 [==============================] - 6s 111us/step - loss: 1.3329 - acc: 0.5253 - val_loss: 1.4500 - val_acc: 0.4830\n",
      "Epoch 12/100\n",
      "50000/50000 [==============================] - 6s 111us/step - loss: 1.3031 - acc: 0.5375 - val_loss: 1.4350 - val_acc: 0.4963\n",
      "Epoch 13/100\n",
      "50000/50000 [==============================] - 6s 112us/step - loss: 1.2920 - acc: 0.5383 - val_loss: 1.4694 - val_acc: 0.4875\n",
      "Epoch 14/100\n",
      "50000/50000 [==============================] - 6s 110us/step - loss: 1.2636 - acc: 0.5505 - val_loss: 1.3935 - val_acc: 0.5128\n",
      "Epoch 15/100\n",
      "50000/50000 [==============================] - 6s 110us/step - loss: 1.2421 - acc: 0.5584 - val_loss: 1.4132 - val_acc: 0.5118\n",
      "Epoch 16/100\n",
      "50000/50000 [==============================] - 6s 111us/step - loss: 1.2154 - acc: 0.5679 - val_loss: 1.3754 - val_acc: 0.5158\n",
      "Epoch 17/100\n",
      "50000/50000 [==============================] - 6s 113us/step - loss: 1.1933 - acc: 0.5733 - val_loss: 1.3936 - val_acc: 0.5074\n",
      "Epoch 18/100\n",
      "50000/50000 [==============================] - 6s 112us/step - loss: 1.1690 - acc: 0.5844 - val_loss: 1.4069 - val_acc: 0.5074\n",
      "Epoch 19/100\n",
      "50000/50000 [==============================] - 6s 115us/step - loss: 1.1496 - acc: 0.5918 - val_loss: 1.3816 - val_acc: 0.5186\n",
      "Epoch 20/100\n",
      "50000/50000 [==============================] - 6s 115us/step - loss: 1.1294 - acc: 0.5971 - val_loss: 1.3859 - val_acc: 0.5225\n",
      "Epoch 21/100\n",
      "50000/50000 [==============================] - 6s 113us/step - loss: 1.1003 - acc: 0.6056 - val_loss: 1.3990 - val_acc: 0.5171\n",
      "Epoch 22/100\n",
      "50000/50000 [==============================] - 6s 112us/step - loss: 1.1028 - acc: 0.6053 - val_loss: 1.3708 - val_acc: 0.5234\n",
      "Epoch 23/100\n",
      "50000/50000 [==============================] - 6s 114us/step - loss: 1.0840 - acc: 0.6141 - val_loss: 1.4035 - val_acc: 0.5143\n",
      "Epoch 24/100\n",
      "50000/50000 [==============================] - 6s 129us/step - loss: 1.0690 - acc: 0.6191 - val_loss: 1.4372 - val_acc: 0.5114\n",
      "Epoch 25/100\n",
      "50000/50000 [==============================] - 6s 121us/step - loss: 1.0473 - acc: 0.6262 - val_loss: 1.3988 - val_acc: 0.5236\n",
      "Epoch 26/100\n",
      "50000/50000 [==============================] - 7s 138us/step - loss: 1.0200 - acc: 0.6390 - val_loss: 1.4313 - val_acc: 0.5162\n",
      "Epoch 27/100\n",
      "50000/50000 [==============================] - 6s 113us/step - loss: 1.0070 - acc: 0.6405 - val_loss: 1.4113 - val_acc: 0.5269\n",
      "Epoch 28/100\n",
      "50000/50000 [==============================] - 6s 118us/step - loss: 0.9823 - acc: 0.6497 - val_loss: 1.4103 - val_acc: 0.5343\n",
      "Epoch 29/100\n",
      "50000/50000 [==============================] - 6s 128us/step - loss: 0.9666 - acc: 0.6548 - val_loss: 1.4475 - val_acc: 0.5310\n",
      "Epoch 30/100\n",
      "50000/50000 [==============================] - 6s 125us/step - loss: 0.9559 - acc: 0.6602 - val_loss: 1.4384 - val_acc: 0.5292\n",
      "Epoch 31/100\n",
      "50000/50000 [==============================] - 6s 126us/step - loss: 0.9283 - acc: 0.6703 - val_loss: 1.4709 - val_acc: 0.5256\n",
      "Epoch 32/100\n",
      "50000/50000 [==============================] - 7s 131us/step - loss: 0.9198 - acc: 0.6725 - val_loss: 1.4689 - val_acc: 0.5176\n",
      "Epoch 33/100\n",
      "50000/50000 [==============================] - 6s 127us/step - loss: 0.8971 - acc: 0.6795 - val_loss: 1.4725 - val_acc: 0.5256\n",
      "Epoch 34/100\n",
      "50000/50000 [==============================] - 6s 115us/step - loss: 0.8803 - acc: 0.6869 - val_loss: 1.4675 - val_acc: 0.5290\n",
      "Epoch 35/100\n",
      "50000/50000 [==============================] - 6s 119us/step - loss: 0.8697 - acc: 0.6898 - val_loss: 1.4853 - val_acc: 0.5246\n",
      "Epoch 36/100\n",
      "50000/50000 [==============================] - 6s 119us/step - loss: 0.8428 - acc: 0.7000 - val_loss: 1.5134 - val_acc: 0.5179\n",
      "Epoch 37/100\n",
      "50000/50000 [==============================] - 6s 120us/step - loss: 0.8285 - acc: 0.7043 - val_loss: 1.5528 - val_acc: 0.5163\n",
      "Epoch 38/100\n",
      "50000/50000 [==============================] - 6s 118us/step - loss: 0.8266 - acc: 0.7051 - val_loss: 1.5468 - val_acc: 0.5232\n",
      "Epoch 39/100\n",
      "50000/50000 [==============================] - 6s 119us/step - loss: 0.8071 - acc: 0.7118 - val_loss: 1.6380 - val_acc: 0.5206\n",
      "Epoch 40/100\n",
      "50000/50000 [==============================] - 6s 123us/step - loss: 0.7942 - acc: 0.7169 - val_loss: 1.6188 - val_acc: 0.5136\n",
      "Epoch 41/100\n",
      "50000/50000 [==============================] - 6s 125us/step - loss: 0.7761 - acc: 0.7255 - val_loss: 1.6252 - val_acc: 0.5203\n",
      "Epoch 42/100\n",
      "50000/50000 [==============================] - 6s 117us/step - loss: 0.7530 - acc: 0.7302 - val_loss: 1.6608 - val_acc: 0.5190\n",
      "Epoch 43/100\n",
      "50000/50000 [==============================] - 6s 115us/step - loss: 0.7483 - acc: 0.7328 - val_loss: 1.6564 - val_acc: 0.5116\n",
      "Epoch 44/100\n",
      "50000/50000 [==============================] - 6s 115us/step - loss: 0.7185 - acc: 0.7426 - val_loss: 1.6861 - val_acc: 0.5207\n",
      "Epoch 45/100\n",
      "50000/50000 [==============================] - 6s 115us/step - loss: 0.7207 - acc: 0.7426 - val_loss: 1.6657 - val_acc: 0.5193\n",
      "Epoch 46/100\n",
      "50000/50000 [==============================] - 6s 114us/step - loss: 0.6964 - acc: 0.7526 - val_loss: 1.6760 - val_acc: 0.5257\n",
      "Epoch 47/100\n",
      "50000/50000 [==============================] - 6s 114us/step - loss: 0.6852 - acc: 0.7555 - val_loss: 1.7164 - val_acc: 0.5233\n",
      "Epoch 48/100\n",
      "50000/50000 [==============================] - 6s 113us/step - loss: 0.6789 - acc: 0.7575 - val_loss: 1.7391 - val_acc: 0.5260\n",
      "Epoch 49/100\n",
      "50000/50000 [==============================] - 6s 113us/step - loss: 0.6588 - acc: 0.7653 - val_loss: 1.7748 - val_acc: 0.5068\n",
      "Epoch 50/100\n",
      "50000/50000 [==============================] - 6s 112us/step - loss: 0.6559 - acc: 0.7650 - val_loss: 1.7269 - val_acc: 0.5251\n",
      "Epoch 51/100\n",
      "50000/50000 [==============================] - 6s 112us/step - loss: 0.6333 - acc: 0.7732 - val_loss: 1.8763 - val_acc: 0.5108\n",
      "Epoch 52/100\n",
      "50000/50000 [==============================] - 6s 113us/step - loss: 0.6286 - acc: 0.7750 - val_loss: 1.8625 - val_acc: 0.5180\n",
      "Epoch 53/100\n",
      "50000/50000 [==============================] - 6s 112us/step - loss: 0.6099 - acc: 0.7806 - val_loss: 1.8679 - val_acc: 0.5147\n",
      "Epoch 54/100\n",
      "50000/50000 [==============================] - 6s 113us/step - loss: 0.5950 - acc: 0.7842 - val_loss: 1.9301 - val_acc: 0.5048\n",
      "Epoch 55/100\n",
      "50000/50000 [==============================] - 6s 112us/step - loss: 0.5986 - acc: 0.7830 - val_loss: 1.8951 - val_acc: 0.5142\n",
      "Epoch 56/100\n",
      "50000/50000 [==============================] - 6s 112us/step - loss: 0.5791 - acc: 0.7938 - val_loss: 1.9282 - val_acc: 0.5093\n",
      "Epoch 57/100\n"
     ]
    },
    {
     "name": "stdout",
     "output_type": "stream",
     "text": [
      "50000/50000 [==============================] - 6s 112us/step - loss: 0.5717 - acc: 0.7956 - val_loss: 1.9918 - val_acc: 0.5143\n",
      "Epoch 58/100\n",
      "50000/50000 [==============================] - 6s 114us/step - loss: 0.5625 - acc: 0.7977 - val_loss: 2.0387 - val_acc: 0.5017\n",
      "Epoch 59/100\n",
      "50000/50000 [==============================] - 6s 113us/step - loss: 0.5510 - acc: 0.8025 - val_loss: 1.9963 - val_acc: 0.5164\n",
      "Epoch 60/100\n",
      "50000/50000 [==============================] - 6s 112us/step - loss: 0.5422 - acc: 0.8042 - val_loss: 2.0584 - val_acc: 0.5134\n",
      "Epoch 61/100\n",
      "50000/50000 [==============================] - 6s 112us/step - loss: 0.5389 - acc: 0.8091 - val_loss: 2.0747 - val_acc: 0.5044\n",
      "Epoch 62/100\n",
      "50000/50000 [==============================] - 6s 112us/step - loss: 0.5377 - acc: 0.8075 - val_loss: 2.1332 - val_acc: 0.5082\n",
      "Epoch 63/100\n",
      "50000/50000 [==============================] - 6s 113us/step - loss: 0.5220 - acc: 0.8133 - val_loss: 2.0666 - val_acc: 0.5172\n",
      "Epoch 64/100\n",
      "50000/50000 [==============================] - 6s 117us/step - loss: 0.4952 - acc: 0.8240 - val_loss: 2.1697 - val_acc: 0.5138\n",
      "Epoch 65/100\n",
      "50000/50000 [==============================] - 6s 118us/step - loss: 0.4903 - acc: 0.8230 - val_loss: 2.2068 - val_acc: 0.5114\n",
      "Epoch 66/100\n",
      "50000/50000 [==============================] - 6s 118us/step - loss: 0.4949 - acc: 0.8219 - val_loss: 2.1339 - val_acc: 0.5140\n",
      "Epoch 67/100\n",
      "50000/50000 [==============================] - 6s 119us/step - loss: 0.4796 - acc: 0.8282 - val_loss: 2.2024 - val_acc: 0.5065\n",
      "Epoch 68/100\n",
      "50000/50000 [==============================] - 6s 114us/step - loss: 0.4637 - acc: 0.8356 - val_loss: 2.2484 - val_acc: 0.5011\n",
      "Epoch 69/100\n",
      "50000/50000 [==============================] - 6s 115us/step - loss: 0.4672 - acc: 0.8329 - val_loss: 2.2947 - val_acc: 0.5156\n",
      "Epoch 70/100\n",
      "50000/50000 [==============================] - 6s 114us/step - loss: 0.4562 - acc: 0.8355 - val_loss: 2.3504 - val_acc: 0.4971\n",
      "Epoch 71/100\n",
      "50000/50000 [==============================] - 6s 117us/step - loss: 0.4340 - acc: 0.8451 - val_loss: 2.3695 - val_acc: 0.5004\n",
      "Epoch 72/100\n",
      "50000/50000 [==============================] - 6s 113us/step - loss: 0.4470 - acc: 0.8383 - val_loss: 2.2761 - val_acc: 0.5093\n",
      "Epoch 73/100\n",
      "50000/50000 [==============================] - 6s 114us/step - loss: 0.4449 - acc: 0.8380 - val_loss: 2.3526 - val_acc: 0.5162\n",
      "Epoch 74/100\n",
      "50000/50000 [==============================] - 6s 113us/step - loss: 0.4203 - acc: 0.8491 - val_loss: 2.4538 - val_acc: 0.5044\n",
      "Epoch 75/100\n",
      "50000/50000 [==============================] - 6s 114us/step - loss: 0.4343 - acc: 0.8426 - val_loss: 2.4297 - val_acc: 0.5082\n",
      "Epoch 76/100\n",
      "50000/50000 [==============================] - 6s 116us/step - loss: 0.4096 - acc: 0.8538 - val_loss: 2.4219 - val_acc: 0.5122\n",
      "Epoch 77/100\n",
      "50000/50000 [==============================] - 6s 113us/step - loss: 0.4180 - acc: 0.8494 - val_loss: 2.5189 - val_acc: 0.5020\n",
      "Epoch 78/100\n",
      "50000/50000 [==============================] - 6s 113us/step - loss: 0.4027 - acc: 0.8546 - val_loss: 2.5676 - val_acc: 0.5060\n",
      "Epoch 79/100\n",
      "50000/50000 [==============================] - 6s 114us/step - loss: 0.3666 - acc: 0.8693 - val_loss: 2.5056 - val_acc: 0.5068\n",
      "Epoch 80/100\n",
      "50000/50000 [==============================] - 6s 115us/step - loss: 0.3787 - acc: 0.8657 - val_loss: 2.5779 - val_acc: 0.5076\n",
      "Epoch 81/100\n",
      "50000/50000 [==============================] - 6s 114us/step - loss: 0.3780 - acc: 0.8630 - val_loss: 2.6002 - val_acc: 0.5007\n",
      "Epoch 82/100\n",
      "50000/50000 [==============================] - 6s 116us/step - loss: 0.3927 - acc: 0.8581 - val_loss: 2.5987 - val_acc: 0.5048\n",
      "Epoch 83/100\n",
      "50000/50000 [==============================] - 6s 114us/step - loss: 0.3784 - acc: 0.8640 - val_loss: 2.6378 - val_acc: 0.5054\n",
      "Epoch 84/100\n",
      "50000/50000 [==============================] - 6s 114us/step - loss: 0.3593 - acc: 0.8704 - val_loss: 2.6903 - val_acc: 0.5000\n",
      "Epoch 85/100\n",
      "50000/50000 [==============================] - 6s 115us/step - loss: 0.3805 - acc: 0.8627 - val_loss: 2.6921 - val_acc: 0.5084\n",
      "Epoch 86/100\n",
      "50000/50000 [==============================] - 6s 113us/step - loss: 0.3598 - acc: 0.8711 - val_loss: 2.7900 - val_acc: 0.5062\n",
      "Epoch 87/100\n",
      "50000/50000 [==============================] - 6s 112us/step - loss: 0.3588 - acc: 0.8700 - val_loss: 2.7244 - val_acc: 0.4974\n",
      "Epoch 88/100\n",
      "50000/50000 [==============================] - 6s 113us/step - loss: 0.3344 - acc: 0.8799 - val_loss: 2.8295 - val_acc: 0.5003\n",
      "Epoch 89/100\n",
      "50000/50000 [==============================] - 6s 112us/step - loss: 0.3819 - acc: 0.8625 - val_loss: 2.7308 - val_acc: 0.4952\n",
      "Epoch 90/100\n",
      "50000/50000 [==============================] - 6s 111us/step - loss: 0.3281 - acc: 0.8830 - val_loss: 2.7789 - val_acc: 0.5055\n",
      "Epoch 91/100\n",
      "50000/50000 [==============================] - 6s 112us/step - loss: 0.3292 - acc: 0.8816 - val_loss: 2.7892 - val_acc: 0.5064\n",
      "Epoch 92/100\n",
      "50000/50000 [==============================] - 6s 114us/step - loss: 0.3157 - acc: 0.8873 - val_loss: 2.8684 - val_acc: 0.4998\n",
      "Epoch 93/100\n",
      "50000/50000 [==============================] - 6s 112us/step - loss: 0.3249 - acc: 0.8827 - val_loss: 2.9525 - val_acc: 0.4961\n",
      "Epoch 94/100\n",
      "50000/50000 [==============================] - 6s 113us/step - loss: 0.3389 - acc: 0.8772 - val_loss: 2.8761 - val_acc: 0.5097\n",
      "Epoch 95/100\n",
      "50000/50000 [==============================] - 6s 114us/step - loss: 0.3238 - acc: 0.8831 - val_loss: 2.8374 - val_acc: 0.5103\n",
      "Epoch 96/100\n",
      "50000/50000 [==============================] - 6s 112us/step - loss: 0.2927 - acc: 0.8949 - val_loss: 2.8928 - val_acc: 0.5054\n",
      "Epoch 97/100\n",
      "50000/50000 [==============================] - 6s 113us/step - loss: 0.3216 - acc: 0.8840 - val_loss: 2.9877 - val_acc: 0.4978\n",
      "Epoch 98/100\n",
      "50000/50000 [==============================] - 6s 114us/step - loss: 0.3285 - acc: 0.8821 - val_loss: 3.0362 - val_acc: 0.5007\n",
      "Epoch 99/100\n",
      "50000/50000 [==============================] - 6s 114us/step - loss: 0.2865 - acc: 0.8979 - val_loss: 2.9655 - val_acc: 0.5027\n",
      "Epoch 100/100\n",
      "50000/50000 [==============================] - 6s 117us/step - loss: 0.2769 - acc: 0.9010 - val_loss: 3.0848 - val_acc: 0.5056\n"
     ]
    },
    {
     "data": {
      "text/plain": [
       "<keras.callbacks.History at 0x1e2944a6dd8>"
      ]
     },
     "execution_count": 12,
     "metadata": {},
     "output_type": "execute_result"
    }
   ],
   "source": [
    "model.fit(x_train, y_train, \n",
    "          epochs=EPOCHS, \n",
    "          batch_size=BATCH_SIZE, \n",
    "          validation_data=(x_test, y_test), \n",
    "          shuffle=True)"
   ]
  },
  {
   "cell_type": "code",
   "execution_count": 14,
   "metadata": {},
   "outputs": [
    {
     "data": {
      "image/png": "[encoded data removed]",
      "text/plain": [
       "<Figure size 432x288 with 1 Axes>"
      ]
     },
     "metadata": {
      "needs_background": "light"
     },
     "output_type": "display_data"
    },
    {
     "data": {
      "image/png": "[encoded data removed]",
      "text/plain": [
       "<Figure size 432x288 with 1 Axes>"
      ]
     },
     "metadata": {
      "needs_background": "light"
     },
     "output_type": "display_data"
    }
   ],
   "source": [
    "import matplotlib.pyplot as plt\n",
    "\n",
    "\n",
    "train_loss = model.history.history[\"loss\"]\n",
    "valid_loss = model.history.history[\"val_loss\"]\n",
    "\n",
    "train_acc = model.history.history[\"acc\"]\n",
    "valid_acc = model.history.history[\"val_acc\"]\n",
    "\n",
    "plt.plot(range(len(train_loss)), train_loss, label=\"train loss\")\n",
    "plt.plot(range(len(valid_loss)), valid_loss, label=\"valid loss\")\n",
    "plt.legend()\n",
    "plt.title(\"Loss\")\n",
    "plt.show()\n",
    "\n",
    "plt.plot(range(len(train_acc)), train_acc, label=\"train accuracy\")\n",
    "plt.plot(range(len(valid_acc)), valid_acc, label=\"valid accuracy\")\n",
    "plt.legend()\n",
    "plt.title(\"Accuracy\")\n",
    "plt.show()"
   ]
  },
  {
   "cell_type": "code",
   "execution_count": null,
   "metadata": {},
   "outputs": [],
   "source": []
  }
 ],
 "metadata": {
  "kernelspec": {
   "display_name": "Python 3",
   "language": "python",
   "name": "python3"
  },
  "language_info": {
   "codemirror_mode": {
    "name": "ipython",
    "version": 3
   },
   "file_extension": ".py",
   "mimetype": "text/x-python",
   "name": "python",
   "nbconvert_exporter": "python",
   "pygments_lexer": "ipython3",
   "version": "3.7.3"
  }
 },
 "nbformat": 4,
 "nbformat_minor": 2
}
